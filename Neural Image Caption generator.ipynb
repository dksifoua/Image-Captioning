{
  "nbformat": 4,
  "nbformat_minor": 0,
  "metadata": {
    "kernelspec": {
      "display_name": "Python 3",
      "language": "python",
      "name": "python3"
    },
    "language_info": {
      "codemirror_mode": {
        "name": "ipython",
        "version": 3
      },
      "file_extension": ".py",
      "mimetype": "text/x-python",
      "name": "python",
      "nbconvert_exporter": "python",
      "pygments_lexer": "ipython3",
      "version": "3.6.8"
    },
    "colab": {
      "name": "Neural Image Caption generator.ipynb",
      "provenance": [],
      "include_colab_link": true
    },
    "accelerator": "GPU"
  },
  "cells": [
    {
      "cell_type": "markdown",
      "metadata": {
        "id": "view-in-github",
        "colab_type": "text"
      },
      "source": [
        "<a href=\"https://colab.research.google.com/github/dksifoua/Neural-Image-Caption-Generator/blob/master/Neural%20Image%20Caption%20generator.ipynb\" target=\"_parent\"><img src=\"https://colab.research.google.com/assets/colab-badge.svg\" alt=\"Open In Colab\"/></a>"
      ]
    },
    {
      "cell_type": "markdown",
      "metadata": {
        "id": "LKrQqejCZXyE",
        "colab_type": "text"
      },
      "source": [
        "# 1. Requirements"
      ]
    },
    {
      "cell_type": "code",
      "metadata": {
        "id": "S8bMWPjTZXyI",
        "colab_type": "code",
        "outputId": "ae99572f-89d5-4860-dd16-b5bf7e9c8da3",
        "colab": {
          "base_uri": "https://localhost:8080/",
          "height": 306
        }
      },
      "source": [
        "!nvidia-smi"
      ],
      "execution_count": 0,
      "outputs": [
        {
          "output_type": "stream",
          "text": [
            "Wed Jun  3 23:29:12 2020       \n",
            "+-----------------------------------------------------------------------------+\n",
            "| NVIDIA-SMI 440.82       Driver Version: 418.67       CUDA Version: 10.1     |\n",
            "|-------------------------------+----------------------+----------------------+\n",
            "| GPU  Name        Persistence-M| Bus-Id        Disp.A | Volatile Uncorr. ECC |\n",
            "| Fan  Temp  Perf  Pwr:Usage/Cap|         Memory-Usage | GPU-Util  Compute M. |\n",
            "|===============================+======================+======================|\n",
            "|   0  Tesla P100-PCIE...  Off  | 00000000:00:04.0 Off |                    0 |\n",
            "| N/A   50C    P0    29W / 250W |      0MiB / 16280MiB |      0%      Default |\n",
            "+-------------------------------+----------------------+----------------------+\n",
            "                                                                               \n",
            "+-----------------------------------------------------------------------------+\n",
            "| Processes:                                                       GPU Memory |\n",
            "|  GPU       PID   Type   Process name                             Usage      |\n",
            "|=============================================================================|\n",
            "|  No running processes found                                                 |\n",
            "+-----------------------------------------------------------------------------+\n"
          ],
          "name": "stdout"
        }
      ]
    },
    {
      "cell_type": "code",
      "metadata": {
        "id": "IdNqWsXXZxPH",
        "colab_type": "code",
        "colab": {}
      },
      "source": [
        "# !pip install --upgrade torchtext spacy"
      ],
      "execution_count": 0,
      "outputs": []
    },
    {
      "cell_type": "code",
      "metadata": {
        "id": "wlsnqBPSZXyg",
        "colab_type": "code",
        "colab": {}
      },
      "source": [
        "import os\n",
        "import re\n",
        "import tqdm\n",
        "import time\n",
        "import random\n",
        "import functools\n",
        "import collections\n",
        "import numpy as np\n",
        "from PIL import Image\n",
        "import multiprocessing\n",
        "import matplotlib.pyplot as plt\n",
        "%matplotlib inline\n",
        "\n",
        "import spacy\n",
        "\n",
        "import torch\n",
        "import torch.nn as nn\n",
        "import torch.nn.functional as F\n",
        "import torch.optim as optim\n",
        "from torch.nn.utils.rnn import pack_padded_sequence\n",
        "\n",
        "import torchvision\n",
        "from torchtext.data import Example, Field, Dataset\n",
        "from torchtext.data.metrics import bleu_score"
      ],
      "execution_count": 0,
      "outputs": []
    },
    {
      "cell_type": "code",
      "metadata": {
        "id": "AO8NwIodZXy5",
        "colab_type": "code",
        "outputId": "0781ac6b-6e94-47db-d697-3d5c902bd41b",
        "colab": {
          "base_uri": "https://localhost:8080/",
          "height": 51
        }
      },
      "source": [
        "SEED = 781\n",
        "random.seed(SEED)\n",
        "np.random.seed(SEED)\n",
        "torch.manual_seed(SEED)\n",
        "torch.cuda.manual_seed(SEED)\n",
        "torch.backends.cudnn.deterministic = True\n",
        "torch.backends.cudnn.benchmark = True\n",
        "\n",
        "DEVICE = torch.device('cuda' if torch.cuda.is_available() else 'cpu')\n",
        "print(f'Device: {DEVICE}')\n",
        "\n",
        "N_WORKERS = multiprocessing.cpu_count()\n",
        "print(f'Number of CPUs: {N_WORKERS}')"
      ],
      "execution_count": 0,
      "outputs": [
        {
          "output_type": "stream",
          "text": [
            "Device: cuda\n",
            "Number of CPUs: 2\n"
          ],
          "name": "stdout"
        }
      ]
    },
    {
      "cell_type": "markdown",
      "metadata": {
        "id": "2StBu8PtZXzG",
        "colab_type": "text"
      },
      "source": [
        "# 2. Download data"
      ]
    },
    {
      "cell_type": "code",
      "metadata": {
        "id": "v0emNzBNZXzK",
        "colab_type": "code",
        "outputId": "e836beaf-c0c3-44ce-8955-3ac2294114a7",
        "colab": {
          "base_uri": "https://localhost:8080/",
          "height": 51
        }
      },
      "source": [
        "%%time\n",
        "if not os.path.exists('./data'):\n",
        "    !mkdir ./data\n",
        "    \n",
        "    !wget --no-check-certificate \\\n",
        "        https://github.com/jbrownlee/Datasets/releases/download/Flickr8k/Flickr8k_Dataset.zip \\\n",
        "        -O ./data/Flickr8k_Dataset.zip\n",
        "    !unzip -q ./data/Flickr8k_Dataset.zip -d ./data\n",
        "    !rm -r ./data/Flickr8k_Dataset.zip\n",
        "\n",
        "    !wget --no-check-certificate \\\n",
        "        https://github.com/jbrownlee/Datasets/releases/download/Flickr8k/Flickr8k_text.zip \\\n",
        "        -O ./data/Flickr8k_text.zip\n",
        "    !unzip -q ./data/Flickr8k_text.zip -d ./data\n",
        "    !rm -r ./data/Flickr8k_text.zip"
      ],
      "execution_count": 0,
      "outputs": [
        {
          "output_type": "stream",
          "text": [
            "CPU times: user 27 µs, sys: 6 µs, total: 33 µs\n",
            "Wall time: 37.7 µs\n"
          ],
          "name": "stdout"
        }
      ]
    },
    {
      "cell_type": "markdown",
      "metadata": {
        "id": "Xd62CBG3ZXzV",
        "colab_type": "text"
      },
      "source": [
        "# 3. Data Preparation\n",
        "\n",
        "## 3.1. Text data"
      ]
    },
    {
      "cell_type": "code",
      "metadata": {
        "id": "Ud-2n9boZXzX",
        "colab_type": "code",
        "outputId": "8b1b73ab-ea01-4677-cd59-a619c411e432",
        "colab": {
          "base_uri": "https://localhost:8080/",
          "height": 411
        }
      },
      "source": [
        "!cat ./data/readme.txt"
      ],
      "execution_count": 0,
      "outputs": [
        {
          "output_type": "stream",
          "text": [
            "If you use this corpus / data:\n",
            "\n",
            "Please cite: M. Hodosh, P. Young and J. Hockenmaier (2013) \"Framing Image Description as a Ranking Task: Data, Models and Evaluation Metrics\", Journal of Artifical Intellegence Research, Volume 47, pages 853-899\n",
            "http://www.jair.org/papers/paper3994.html\n",
            "\n",
            "\n",
            "Captions, Dataset Splits, and Human Annotations :\n",
            "\n",
            "\n",
            "Flickr8k.token.txt - the raw captions of the Flickr8k Dataset . The first column is the ID of the caption which is \"image address # caption number\"\n",
            "\n",
            "Flickr8k.lemma.txt - the lemmatized version of the above captions \n",
            "\n",
            "Flickr_8k.trainImages.txt - The training images used in our experiments\n",
            "Flickr_8k.devImages.txt - The development/validation images used in our experiments\n",
            "Flickr_8k.testImages.txt - The test images used in our experiments\n",
            "\n",
            "\n",
            "ExpertAnnotations.txt is the expert judgments.  The first two columns are the image and caption IDs.  Caption IDs are <image file name>#<0-4>.  The next three columns are the expert judgments for that image-caption pair.  Scores range from 1 to 4, with a 1 indicating that the caption does not describe the image at all, a 2 indicating the caption describes minor aspects of the image but does not describe the image, a 3 indicating that the caption almost describes the image with minor mistakes, and a 4 indicating that the caption describes the image.\n",
            "\n",
            "\n",
            "CrowdFlowerAnnotations.txt contains the CrowdFlower judgments.  The first two columns are the image and caption IDs.  The third column is the percent of Yeses, the fourth column is the total number of Yeses, the fifth column is the total number of Noes.  A Yes means that the caption describes the image (possibly with minor mistakes), while a No means that the caption does not describe the image.  Each image-caption pair has a minimum of three judgments, but some may have more.\n"
          ],
          "name": "stdout"
        }
      ]
    },
    {
      "cell_type": "code",
      "metadata": {
        "id": "F3RCqRt7ZXzn",
        "colab_type": "code",
        "outputId": "a37ebf9b-c63c-4d8c-d05d-bc810a66985e",
        "colab": {
          "base_uri": "https://localhost:8080/",
          "height": 85
        }
      },
      "source": [
        "train_img_fn = [*map(str.strip, open('./data/Flickr_8k.trainImages.txt').readlines())]\n",
        "valid_img_fn = [*map(str.strip, open('./data/Flickr_8k.devImages.txt').readlines())]\n",
        "test_img_fn = [*map(str.strip, open('./data/Flickr_8k.testImages.txt').readlines())]\n",
        "\n",
        "img_captions = collections.defaultdict(lambda: [])\n",
        "with open('./data/Flickr8k.token.txt') as file:\n",
        "    for line in file.readlines():\n",
        "        img_fn, caption = line.strip().split('\\t')\n",
        "        img_captions[img_fn[:-2]].append(caption)\n",
        "        \n",
        "train_img_captions = dict(filter(lambda x: x[0] in train_img_fn, img_captions.items()))\n",
        "valid_img_captions = dict(filter(lambda x: x[0] in valid_img_fn, img_captions.items()))\n",
        "test_img_captions = dict(filter(lambda x: x[0] in test_img_fn, img_captions.items()))\n",
        "    \n",
        "print(f'Number of images: {len(img_captions):,}')\n",
        "print(f'Number of train images: {len(train_img_captions):,}')\n",
        "print(f'Number of valid images: {len(valid_img_captions):,}')\n",
        "print(f'Number of test images: {len(test_img_captions):,}')"
      ],
      "execution_count": 0,
      "outputs": [
        {
          "output_type": "stream",
          "text": [
            "Number of images: 8,092\n",
            "Number of train images: 6,000\n",
            "Number of valid images: 1,000\n",
            "Number of test images: 1,000\n"
          ],
          "name": "stdout"
        }
      ]
    },
    {
      "cell_type": "code",
      "metadata": {
        "id": "4c1mm4rIZXzv",
        "colab_type": "code",
        "colab": {}
      },
      "source": [
        "# Special tokens\n",
        "PAD_TOKEN = '<pad>'\n",
        "SOS_TOKEN = '<sos>'\n",
        "EOS_TOKEN = '<eos>'\n",
        "UNK_TOKEN = '<unk>'\n",
        "\n",
        "def clean(caption):\n",
        "    # Remove non-alphabetical character\n",
        "    caption = re.sub(r'[^a-zA-Z]', r' ', caption)\n",
        "    # Remove one word character\n",
        "    caption = re.sub(r'\\b[a-zA-Z]\\b', r' ', caption)\n",
        "    # Remove multiple spaces\n",
        "    caption = re.sub(r'\\s+', r' ', caption)\n",
        "    return caption.strip()"
      ],
      "execution_count": 0,
      "outputs": []
    },
    {
      "cell_type": "code",
      "metadata": {
        "id": "ZEgswwOSZX0R",
        "colab_type": "code",
        "outputId": "9af07ee3-7d89-4c57-a469-9bc1a7574aa3",
        "colab": {
          "base_uri": "https://localhost:8080/",
          "height": 282
        }
      },
      "source": [
        "# Clean captions\n",
        "# train_img_captions = dict(map(lambda x: (x[0], [*map(clean, x[1])]), train_img_captions.items()))\n",
        "# valid_img_captions = dict(map(lambda x: (x[0], [*map(clean, x[1])]), valid_img_captions.items()))\n",
        "# test_img_captions = dict(map(lambda x: (x[0], [*map(clean, x[1])]), test_img_captions.items()))\n",
        "\n",
        "# Get the length of the longest caption\n",
        "all_train_captions = [*functools.reduce(lambda x, y: x + y, train_img_captions.values())]\n",
        "print('Max train image caption length:', max(map(len, map(str.split, all_train_captions))))\n",
        "plt.hist([*map(len, map(str.split, all_train_captions))])\n",
        "plt.grid()\n",
        "plt.show()"
      ],
      "execution_count": 0,
      "outputs": [
        {
          "output_type": "stream",
          "text": [
            "Max train image caption length: 38\n"
          ],
          "name": "stdout"
        },
        {
          "output_type": "display_data",
          "data": {
            "image/png": "[encoded data removed]",
            "text/plain": [
              "<Figure size 432x288 with 1 Axes>"
            ]
          },
          "metadata": {
            "tags": [],
            "needs_background": "light"
          }
        }
      ]
    },
    {
      "cell_type": "code",
      "metadata": {
        "id": "TK007mJhZX09",
        "colab_type": "code",
        "outputId": "8b0c0d35-dc10-42ff-b60d-586e615f55a4",
        "colab": {
          "base_uri": "https://localhost:8080/",
          "height": 51
        }
      },
      "source": [
        "MIN_COUNT = 5\n",
        "MAX_LEN = 25\n",
        "all_train_captions = [*functools.reduce(lambda x, y: x + y, train_img_captions.values())]\n",
        "EN = Field(init_token=SOS_TOKEN,\n",
        "           eos_token=EOS_TOKEN,\n",
        "           fix_length=MAX_LEN,\n",
        "           lower=True,\n",
        "           tokenize='spacy',\n",
        "           tokenizer_language='en',\n",
        "           include_lengths=True)\n",
        "examples = [Example.fromlist(data=[caption], fields=[('caption', EN)])\n",
        "            for caption in tqdm.tqdm(all_train_captions)]\n",
        "captions_data = Dataset(examples, fields={'caption': EN})\n",
        "EN.build_vocab(captions_data,\n",
        "               min_freq=MIN_COUNT,\n",
        "               specials=[SOS_TOKEN, UNK_TOKEN, EOS_TOKEN, PAD_TOKEN])\n",
        "print(f'Length of vocabulary: {len(EN.vocab):,}')"
      ],
      "execution_count": 0,
      "outputs": [
        {
          "output_type": "stream",
          "text": [
            "100%|██████████| 30000/30000 [00:02<00:00, 14383.61it/s]"
          ],
          "name": "stderr"
        },
        {
          "output_type": "stream",
          "text": [
            "Length of vocabulary: 2,548\n"
          ],
          "name": "stdout"
        },
        {
          "output_type": "stream",
          "text": [
            "\n"
          ],
          "name": "stderr"
        }
      ]
    },
    {
      "cell_type": "code",
      "metadata": {
        "id": "eEgNGFvJZX1I",
        "colab_type": "code",
        "colab": {}
      },
      "source": [
        "def caption_transform(caption):\n",
        "    if isinstance(caption, str):\n",
        "        return EN.process([EN.preprocess(caption)])\n",
        "    elif isinstance(caption, list):\n",
        "        return EN.process([*map(EN.preprocess, caption)])\n",
        "    else:\n",
        "        raise NotImplementedError"
      ],
      "execution_count": 0,
      "outputs": []
    },
    {
      "cell_type": "markdown",
      "metadata": {
        "id": "R4DMbwJDZX1d",
        "colab_type": "text"
      },
      "source": [
        "## 3.2. Image data"
      ]
    },
    {
      "cell_type": "code",
      "metadata": {
        "id": "aDBS9jH2ZX1g",
        "colab_type": "code",
        "colab": {}
      },
      "source": [
        "IMG_SHAPE = (256, 256)\n",
        "\n",
        "img_transform = torchvision.transforms.Compose([\n",
        "    torchvision.transforms.ToTensor(),\n",
        "    torchvision.transforms.Lambda(lambda x: x / 255.),\n",
        "    torchvision.transforms.Normalize(mean=[0.485, 0.456, 0.406],\n",
        "                                     std=[0.229, 0.224, 0.225])])"
      ],
      "execution_count": 0,
      "outputs": []
    },
    {
      "cell_type": "markdown",
      "metadata": {
        "id": "bc7y35ZvZX1z",
        "colab_type": "text"
      },
      "source": [
        "## 3.3. Build datasets"
      ]
    },
    {
      "cell_type": "code",
      "metadata": {
        "id": "Xx9cTSYwZX11",
        "colab_type": "code",
        "colab": {}
      },
      "source": [
        "class ImageCaptionDataset(torch.utils.data.Dataset):\n",
        "    \n",
        "    def __init__(self, data_path, img_captions, split_set, img_transform, caption_transform, img_shape=(256, 256)):\n",
        "        assert split_set in {'TRAIN', 'VALID', 'TEST'}\n",
        "        self.data_path = data_path\n",
        "        self.img_captions = img_captions\n",
        "        self.split_set = split_set\n",
        "        self.img_transform = img_transform\n",
        "        self.caption_transform = caption_transform\n",
        "        self.img_shape = img_shape\n",
        "        self.ids = list(sorted(self.img_captions.keys()))\n",
        "    \n",
        "    def __getitem__(self, index):\n",
        "        img_id = self.ids[index]\n",
        "\n",
        "        img = Image.open(os.path.join(self.data_path, img_id)).convert('RGB')\n",
        "        img = self.img_transform(img.resize(self.img_shape))\n",
        "\n",
        "        targets = self.img_captions[img_id]\n",
        "        targets = self.caption_transform(targets)\n",
        "        \n",
        "        idx = np.random.randint(len(targets))\n",
        "        target = (targets[0][:, idx], targets[1][idx])\n",
        "        \n",
        "        if self.split_set is 'TRAIN':\n",
        "            return img, target\n",
        "        else:\n",
        "            return img, target, targets\n",
        "    \n",
        "    def __len__(self):\n",
        "        return len(self.ids)"
      ],
      "execution_count": 0,
      "outputs": []
    },
    {
      "cell_type": "code",
      "metadata": {
        "id": "D1lMLIU4ZX2X",
        "colab_type": "code",
        "colab": {}
      },
      "source": [
        "train_dataset = ImageCaptionDataset(data_path='./data/Flicker8k_Dataset/',\n",
        "                                    img_captions=train_img_captions,\n",
        "                                    split_set='TRAIN',\n",
        "                                    img_transform=img_transform,\n",
        "                                    caption_transform=caption_transform)\n",
        "valid_dataset = ImageCaptionDataset(data_path='./data/Flicker8k_Dataset/',\n",
        "                                    img_captions=valid_img_captions,\n",
        "                                    split_set='VALID',\n",
        "                                    img_transform=img_transform,\n",
        "                                    caption_transform=caption_transform)"
      ],
      "execution_count": 0,
      "outputs": []
    },
    {
      "cell_type": "markdown",
      "metadata": {
        "id": "v7AIJjCbZX20",
        "colab_type": "text"
      },
      "source": [
        "# 4. Modeling\n",
        "\n",
        "## 4.1. Generate image features - ResNet Encoder"
      ]
    },
    {
      "cell_type": "code",
      "metadata": {
        "id": "8fbvd220ZX22",
        "colab_type": "code",
        "colab": {}
      },
      "source": [
        "class ResNetEncoder(nn.Module):\n",
        "    \n",
        "    def __init__(self, hidden_size=2048):\n",
        "        super(ResNetEncoder, self).__init__()\n",
        "        resnet = torchvision.models.wide_resnet101_2(pretrained=True)\n",
        "        modules = list(resnet.children())[:-2]\n",
        "        self.hidden_size = hidden_size\n",
        "        self.resnet = nn.Sequential(*modules)\n",
        "        \n",
        "    def fine_tuning_resnet(self, fine_tune):\n",
        "        for p in self.resnet.parameters():\n",
        "            p.requires_grad = False\n",
        "        for c in list(self.resnet.children())[5:]:\n",
        "            for p in c.parameters():\n",
        "                p.requires_grad = fine_tune\n",
        "        \n",
        "    def forward(self, images):\n",
        "        \"\"\"\n",
        "        :param\n",
        "            images: Tensor[batch_size, 3, img_size, img_size]\n",
        "        :return\n",
        "            out: Tensor[batch_size, 8, 8, hidden_size]\n",
        "        \"\"\"\n",
        "        out = self.resnet(images)\n",
        "        out = out.permute(0, 2, 3, 1)\n",
        "        return out"
      ],
      "execution_count": 0,
      "outputs": []
    },
    {
      "cell_type": "code",
      "metadata": {
        "id": "IFUilrnBZX3C",
        "colab_type": "code",
        "colab": {}
      },
      "source": [
        "def test_encoder():\n",
        "    encoder = ResNetEncoder()\n",
        "    latent = encoder(torch.rand((10, 3, 256, 256)))\n",
        "    assert latent.size() == torch.Size([10, 8, 8, 2048]), latent.size() \n",
        "    \n",
        "test_encoder()"
      ],
      "execution_count": 0,
      "outputs": []
    },
    {
      "cell_type": "markdown",
      "metadata": {
        "id": "LExSos0FZX3U",
        "colab_type": "text"
      },
      "source": [
        "## 4.2. Badhanau Attention"
      ]
    },
    {
      "cell_type": "code",
      "metadata": {
        "id": "m2tAPwvLZX3X",
        "colab_type": "code",
        "colab": {}
      },
      "source": [
        "class BahdanauAttention(nn.Module):\n",
        "    \n",
        "    def __init__(self, enc_hidden_size, dec_hidden_size, hidden_size):\n",
        "        super(BahdanauAttention, self).__init__()\n",
        "        self.W1 = nn.Linear(enc_hidden_size, hidden_size)\n",
        "        self.W2 = nn.Linear(dec_hidden_size, hidden_size)\n",
        "        self.V = nn.Linear(hidden_size, 1)\n",
        "\n",
        "    def forward(self, features, h_state):\n",
        "        \"\"\"\n",
        "        :param\n",
        "            features:  Tensor[batch_size, num_pixels, enc_hidden_size]\n",
        "            h_state: Tensor[batch_size, dec_hidden_size]\n",
        "        :return\n",
        "            context_vector: Tensor[batch_size, enc_hidden_size]\n",
        "            attention_weights: Tensor[batch_size, num_pixels]\n",
        "        \"\"\"\n",
        "        h_state = h_state.unsqueeze(1) # [batch_size, 1, dec_hidden_size]\n",
        "        score = F.elu(self.W1(features) + self.W2(h_state)) # [batch_size, num_pixels, hidden_size]\n",
        "        attention_weights = F.softmax(self.V(score), dim=1) # [batch_size, num_pixels, 1]\n",
        "        context_vector = attention_weights * features # [batch_size, num_pixels, enc_hidden_size]\n",
        "        context_vector = torch.sum(context_vector, dim=1) # [batch_size, enc_hidden_size]\n",
        "        return context_vector, attention_weights.squeeze(2)"
      ],
      "execution_count": 0,
      "outputs": []
    },
    {
      "cell_type": "code",
      "metadata": {
        "id": "EWzAiYL3ZX3o",
        "colab_type": "code",
        "colab": {}
      },
      "source": [
        "def test_attention():\n",
        "    attention = BahdanauAttention(enc_hidden_size=2048, dec_hidden_size=512, hidden_size=512)\n",
        "    context_vector, attention_weights = attention(torch.rand((10, 8*8, 2048)), torch.rand((10, 512)))\n",
        "    assert context_vector.size() == torch.Size([10, 2048])\n",
        "    assert attention_weights.size() == torch.Size([10, 8*8])\n",
        "    \n",
        "test_attention()"
      ],
      "execution_count": 0,
      "outputs": []
    },
    {
      "cell_type": "markdown",
      "metadata": {
        "id": "R62bBm1OZX32",
        "colab_type": "text"
      },
      "source": [
        "## 4.3. Generate captions - LSTM Decoder"
      ]
    },
    {
      "cell_type": "code",
      "metadata": {
        "id": "VdFH5HsPZX34",
        "colab_type": "code",
        "colab": {}
      },
      "source": [
        "class DecoderWithBahdanauAttention(nn.Module):\n",
        "    \n",
        "    def __init__(self, enc_hidden_size, attn_hidden_size, hidden_size, embedding_size, vocab_size, dropout):\n",
        "        super(DecoderWithBahdanauAttention, self).__init__()\n",
        "        self.hidden_size = hidden_size\n",
        "        self.vocab_size = vocab_size\n",
        "        self.dropout = dropout\n",
        "        self.embedding = nn.Embedding(vocab_size, embedding_size)\n",
        "        self.dropout = nn.Dropout(p=dropout)\n",
        "        self.lstm = nn.LSTM(embedding_size + enc_hidden_size, hidden_size)\n",
        "        self.attention = BahdanauAttention(enc_hidden_size, hidden_size, attn_hidden_size)\n",
        "        self.f_beta = nn.Linear(hidden_size, enc_hidden_size)\n",
        "        self.fc = nn.Linear(hidden_size, vocab_size)\n",
        "        \n",
        "    def load_pretrained_embeddings(self, embeddings):\n",
        "        self.embedding.weight = nn.Parameter(embeddings)\n",
        "        \n",
        "    def fine_tuning_embeddings(self, fine_tune=False):\n",
        "        for p in self.embedding.parameters():\n",
        "            p.requires_grad = fine_tune\n",
        "        \n",
        "    def forward(self, input_word_index, h_state, c_state, enc_outputs):\n",
        "        \"\"\"\n",
        "        :param\n",
        "            input_word_index: Tensor[batch_size,]\n",
        "            h_state: Tensor[1, batch_size, hidden_size]\n",
        "            c_state: Tensor[1, batch_size, hidden_size]\n",
        "            enc_outputs: Tensor[batch_size, num_pixels, enc_hidden_size]\n",
        "        :return\n",
        "            logit: Tensor[batch_size, vocab_size]\n",
        "            h_state: Tensor[1, batch_size, hidden_size]\n",
        "            c_state: Tensor[1, batch_size, hidden_size]\n",
        "            attention_weights: Tensor[batch_size, num_pixels]\n",
        "        \"\"\"\n",
        "        embedded = self.embedding(input_word_index)  # [batch_size, embedding_size]\n",
        "        context_vector, attention_weights = self.attention(enc_outputs, h_state.squeeze(0))\n",
        "        # context_vector: Tensor[batch_size, enc_hidden_size]\n",
        "        # attention_weights: Tensor[batch_size, num_pixels]\n",
        "        \n",
        "        gate = torch.sigmoid(self.f_beta(h_state))  # [1, batch_size, enc_hidden_size], Gating scalar\n",
        "        context_vector = gate.squeeze(0) * context_vector # [batch_size, enc_hidden_size]\n",
        "        \n",
        "        x = torch.cat((embedded, context_vector), dim=1) # [batch_size, embedding_size + enc_hidden_size]\n",
        "        output, (h_state, c_state) = self.lstm(x.unsqueeze(0), (h_state, c_state))\n",
        "        # output: [1, batch_size, hidden_size]\n",
        "        # h_state: [1, batch_size, hidden_size]\n",
        "        # c_state: [1, batch_size, hidden_size]\n",
        "        \n",
        "        logit = self.fc(self.dropout(output)) # [1, batch_size, vocab_size]\n",
        "        logit = logit.squeeze(0) # [batch_size, vocab_size]\n",
        "        return logit, h_state, c_state, attention_weights"
      ],
      "execution_count": 0,
      "outputs": []
    },
    {
      "cell_type": "code",
      "metadata": {
        "id": "1hWqJPYnZX4E",
        "colab_type": "code",
        "colab": {}
      },
      "source": [
        "def test_decoder():\n",
        "    decoder = DecoderWithBahdanauAttention(enc_hidden_size=2048,\n",
        "                                           attn_hidden_size=512,\n",
        "                                           hidden_size=512,\n",
        "                                           embedding_size=512,\n",
        "                                           vocab_size=1000,\n",
        "                                           dropout=0.5)\n",
        "    logit, h_state, c_state, attention_weights = decoder(torch.randint(low=0, high=1000, size=(10,)),\n",
        "                                                         torch.rand((1, 10, 512)),\n",
        "                                                         torch.rand((1, 10, 512)),\n",
        "                                                         torch.rand((10, 14*14, 2048)))\n",
        "    assert logit.size() == torch.Size([10, 1000])\n",
        "    assert h_state.size() == torch.Size([1, 10, 512])\n",
        "    assert c_state.size() == torch.Size([1, 10, 512])\n",
        "    assert attention_weights.size() == torch.Size([10, 14*14])\n",
        "    \n",
        "test_decoder()"
      ],
      "execution_count": 0,
      "outputs": []
    },
    {
      "cell_type": "markdown",
      "metadata": {
        "id": "ZHfTeBkUZX4P",
        "colab_type": "text"
      },
      "source": [
        "## 4.4. Putting all together - AutoEncoder"
      ]
    },
    {
      "cell_type": "code",
      "metadata": {
        "id": "jlZGDdL9ZX4Q",
        "colab_type": "code",
        "colab": {}
      },
      "source": [
        "class AutoEncoder(nn.Module):\n",
        "    \n",
        "    def __init__(self, encoder, decoder, device):\n",
        "        super(AutoEncoder, self).__init__()\n",
        "        self.encoder = encoder\n",
        "        self.decoder = decoder\n",
        "        self.init_h0 = nn.Linear(encoder.hidden_size, decoder.hidden_size)\n",
        "        self.init_c0 = nn.Linear(encoder.hidden_size, decoder.hidden_size)\n",
        "        self.device = device\n",
        "        \n",
        "    def forward(self, images, target_sequences, sequence_lengths, tf_ratio):\n",
        "        \"\"\"\n",
        "        :param\n",
        "            images: Tensor[batch_size, 3, img_size, img_size]\n",
        "            target_sequences: Tensor[batch_size, seq_len]\n",
        "            sequence_lengths: Tensor[batch_size,]\n",
        "            tf_ratio: float\n",
        "        :return\n",
        "            logits: Tensor[max(decode_lengths), batch_size, vocab_size]\n",
        "            logits: Tensor[batch_size, max(decode_lengths), num_pixels]\n",
        "            sorted_target_sequences: Tensor[seq_len, batch_size]\n",
        "            sorted_decode_lengths: list[seq_len]\n",
        "            sorted_indices: list[batch_size]\n",
        "        \"\"\"\n",
        "        batch_size = images.size(0)\n",
        "        \n",
        "        # Encoding\n",
        "        image_features = self.encoder(images) # [batch_size, 14, 14, hidden_size]\n",
        "        image_features = image_features.view(batch_size, -1, self.encoder.hidden_size) # [batch_size, num_pixels, enc_hidden_size]\n",
        "        num_pixels = image_features.size(1)\n",
        "        \n",
        "        # Sort the batch by decreasing lengths\n",
        "        sorted_sequence_lengths, sorted_indices = torch.sort(sequence_lengths, dim=0, descending=True)\n",
        "        sorted_image_features = image_features[sorted_indices] # [batch_size, num_pixels, enc_hidden_size]\n",
        "        sorted_target_sequences = target_sequences[sorted_indices] # [seq_len, batch_size]\n",
        "        \n",
        "        # Init hidden and memory states\n",
        "        mean_image_features = sorted_image_features.mean(dim=1) # [batch_size, enc_hidden_size]\n",
        "        h_state, c_state = self.init_h0(mean_image_features), self.init_c0(mean_image_features) # [batch_size, dec_hidden_size]\n",
        "        h_state, c_state = h_state.unsqueeze(0), c_state.unsqueeze(0) # [1, batch_size, dec_hidden_size]\n",
        "        \n",
        "        # We won't decode at the <eos> position, since we've finished generating as soon as we generate <eos>\n",
        "        # So, decoding lengths are actual lengths - 1\n",
        "        sorted_decode_lengths = (sorted_sequence_lengths - 1).tolist()\n",
        "        \n",
        "        # Decoding\n",
        "        logits = torch.zeros(max(sorted_decode_lengths), batch_size, self.decoder.vocab_size).to(self.device)\n",
        "        alphas = torch.zeros(batch_size, max(sorted_decode_lengths), num_pixels).to(self.device)\n",
        "        last = None\n",
        "        for t in range(max(sorted_decode_lengths)):\n",
        "            batch_size_t = sum([l > t for l in sorted_decode_lengths])\n",
        "            \n",
        "            if last is not None:\n",
        "                if random.random() < tf_ratio:\n",
        "                    in_ = last[:batch_size_t]\n",
        "                else:\n",
        "                    in_ = sorted_target_sequences[:batch_size_t, t]\n",
        "            else:\n",
        "                in_ = sorted_target_sequences[:batch_size_t, t]\n",
        "            \n",
        "            logit, h_state, c_state, attention_weights = self.decoder(in_,\n",
        "                                                                      h_state[:, :batch_size_t, :],\n",
        "                                                                      c_state[:, :batch_size_t, :],\n",
        "                                                                      sorted_image_features[:batch_size_t, :, :])\n",
        "            logits[t, :batch_size_t, :] = logit\n",
        "            alphas[:batch_size_t, t, :] = attention_weights\n",
        "            last = torch.argmax(F.softmax(logit, dim=1), dim=1) # [batch_size,]\n",
        "        \n",
        "        return logits, alphas, sorted_target_sequences, sorted_decode_lengths, sorted_indices"
      ],
      "execution_count": 0,
      "outputs": []
    },
    {
      "cell_type": "code",
      "metadata": {
        "id": "xL8sy2MsZX4o",
        "colab_type": "code",
        "colab": {}
      },
      "source": [
        "def test_autoencoder():\n",
        "    encoder = ResNetEncoder()\n",
        "    decoder = DecoderWithBahdanauAttention(enc_hidden_size=2048,\n",
        "                                           attn_hidden_size=512,\n",
        "                                           hidden_size=512,\n",
        "                                           embedding_size=512,\n",
        "                                           vocab_size=1000,\n",
        "                                           dropout=0.5)\n",
        "    autoencoder = AutoEncoder(encoder=encoder, decoder=decoder, device='cpu')\n",
        "    logits, alphas, sorted_target_sequences, sorted_decode_lengths, sorted_indices = \\\n",
        "        autoencoder(torch.rand((10, 3, 256, 256)),\n",
        "                    torch.randint(low=0, high=1000, size=(10, 25)),\n",
        "                    torch.randint(low=5, high=26, size=(10,)), 0.5)\n",
        "    assert logits.size() == torch.Size([max(sorted_decode_lengths), 10, 1000])\n",
        "    assert alphas.size() == torch.Size([10, max(sorted_decode_lengths), 8*8])\n",
        "    assert len(sorted_decode_lengths) == 10\n",
        "    assert sorted_target_sequences.size() == torch.Size([10, 25])\n",
        "    assert len(sorted_indices) == 10\n",
        "    \n",
        "test_autoencoder()"
      ],
      "execution_count": 0,
      "outputs": []
    },
    {
      "cell_type": "markdown",
      "metadata": {
        "id": "Q-Ph4v-GZX43",
        "colab_type": "text"
      },
      "source": [
        "# 5. Training\n",
        "\n",
        "## 5.1. Training routines"
      ]
    },
    {
      "cell_type": "code",
      "metadata": {
        "id": "Twx29pVuZX46",
        "colab_type": "code",
        "colab": {}
      },
      "source": [
        "def count_parameters(model):\n",
        "    return sum(p.numel() for p in model.parameters() if p.requires_grad)\n",
        "\n",
        "def init_embeddings(embeddings):\n",
        "    bias = np.sqrt(3.0 / embeddings.size(1))\n",
        "    torch.nn.init.uniform_(embeddings, -bias, bias)\n",
        "\n",
        "def load_embeddings(nlp, field):\n",
        "    embeddings = torch.FloatTensor(len(field.vocab), 300)\n",
        "    init_embeddings(embeddings)\n",
        "    for token, index in tqdm.tqdm(field.vocab.stoi.items()):\n",
        "        token = nlp(token)\n",
        "        if token.has_vector:\n",
        "            embeddings[index] = torch.tensor(token.vector, dtype=torch.float32)\n",
        "    return embeddings\n",
        "\n",
        "def clip_gradient(optimizer, grad_clip):\n",
        "    for group in optimizer.param_groups:\n",
        "        for param in group['params']:\n",
        "            if param.grad is not None:\n",
        "                param.grad.data.clamp_(-grad_clip, grad_clip)\n",
        "\n",
        "def save_checkpoint(model, optimizer, data_name, epoch, last_improv, bleu4, is_best):\n",
        "    state = {\n",
        "        'epoch': epoch,\n",
        "        'bleu-4': bleu4,\n",
        "        'last_improv': last_improv,\n",
        "        'model': model.state_dict(),\n",
        "        'optimizer': optimizer.state_dict()\n",
        "    }\n",
        "    if not os.path.exists('./checkpoint'):\n",
        "        !mkdir ./checkpoint\n",
        "    torch.save(state, './checkpoint/' + data_name + '.pt')\n",
        "    if is_best:\n",
        "        torch.save(state, './checkpoint/' + 'BEST_' + data_name + '.pt')\n",
        "\n",
        "        \n",
        "class AvgMeter(object):\n",
        "\n",
        "    def __init__(self):\n",
        "        self.reset()\n",
        "\n",
        "    def reset(self):\n",
        "        self.val = 0\n",
        "        self.avg = 0\n",
        "        self.sum = 0\n",
        "        self.count = 0\n",
        "\n",
        "    def update(self, val, n=1):\n",
        "        self.val = val\n",
        "        self.sum += val * n\n",
        "        self.count += n\n",
        "        self.avg = self.sum / self.count\n",
        "        \n",
        "def adjust_lr(optimizer, shrink_factor):\n",
        "    print(\"\\nDecaying learning rate.\")\n",
        "    for param_group in optimizer.param_groups:\n",
        "        param_group['lr'] = param_group['lr'] * shrink_factor\n",
        "    print(\"The new learning rate is %f\\n\" % (optimizer.param_groups[0]['lr'],))\n",
        "    \n",
        "def accuracy(outputs, target_sequences, k=5):\n",
        "    batch_size = outputs.size(1)\n",
        "    _, indices = outputs.topk(k, dim=1, largest=True, sorted=True)\n",
        "    correct = indices.eq(target_sequences.view(-1, 1).expand_as(indices))\n",
        "    correct_total = correct.view(-1).float().sum()  # 0D tensor\n",
        "    return correct_total.item() * (100.0 / batch_size)"
      ],
      "execution_count": 0,
      "outputs": []
    },
    {
      "cell_type": "code",
      "metadata": {
        "id": "0gPf9q93ZX5L",
        "colab_type": "code",
        "colab": {}
      },
      "source": [
        "def train_step(model, optimizer, criterion, loader, epoch, grad_clip, alpha_c, tf_ratio, device):\n",
        "    loss_tracker, acc_tracker = AvgMeter(), AvgMeter()\n",
        "    model.train()\n",
        "    pbar = tqdm.tqdm(enumerate(loader), total=len(loader))\n",
        "    for i, (images, (target_sequences, sequence_lengths)) in pbar:\n",
        "        images = images.to(device)\n",
        "        target_sequences = target_sequences.to(device)\n",
        "        sequence_lengths = sequence_lengths.to(device)\n",
        "        # Forward prop.\n",
        "        logits, alphas, sorted_target_sequences, sorted_decode_lengths, sorted_indices = model(images, target_sequences, sequence_lengths, tf_ratio)\n",
        "        # Since we decoded starting with <sos>, the targets are all words after <sos>, up to <eos>\n",
        "        sorted_target_sequences = sorted_target_sequences[:, 1:]\n",
        "        # Remove paddings\n",
        "        logits = pack_padded_sequence(logits, sorted_decode_lengths).data\n",
        "        sorted_target_sequences = pack_padded_sequence(sorted_target_sequences, sorted_decode_lengths, batch_first=True).data\n",
        "        # Calculate loss\n",
        "        loss = criterion(logits, sorted_target_sequences)\n",
        "        # Add doubly stochastic attention regularization\n",
        "        loss += alpha_c * ((1. - alphas.sum(dim=1)) ** 2).mean()\n",
        "        # Back prop.\n",
        "        optimizer.zero_grad()\n",
        "        loss.backward()\n",
        "        # Clip gradients\n",
        "        if grad_clip is not None:\n",
        "            clip_gradient(optimizer, grad_clip)\n",
        "        # Update weights\n",
        "        optimizer.step()\n",
        "        # Track metrics\n",
        "        loss_tracker.update(loss.item(), sum(sorted_decode_lengths))\n",
        "        acc_tracker.update(accuracy(logits, sorted_target_sequences, 5), sum(sorted_decode_lengths))\n",
        "        # Update progressbar description\n",
        "        pbar.set_description(f'Epoch: {epoch + 1:03d} - loss: {loss_tracker.avg:.3f} - acc: {acc_tracker.avg:.3f}%')\n",
        "    return loss_tracker.avg, acc_tracker.avg"
      ],
      "execution_count": 0,
      "outputs": []
    },
    {
      "cell_type": "code",
      "metadata": {
        "id": "npl8hB_QZX5m",
        "colab_type": "code",
        "colab": {}
      },
      "source": [
        "def validate(model, criterion, loader, field, epoch, alpha_c, device):\n",
        "    references, hypotheses = [], []\n",
        "    loss_tracker, acc_tracker = AvgMeter(), AvgMeter()\n",
        "    model.eval()\n",
        "    with torch.no_grad():\n",
        "        pbar = tqdm.tqdm(enumerate(loader), total=len(loader))\n",
        "        for i, (images, (target_sequences, sequence_lengths), (all_target_sequences, all_sequence_lengths)) in pbar:\n",
        "            images = images.to(device)\n",
        "            target_sequences = target_sequences.to(device)\n",
        "            sequence_lengths = sequence_lengths.to(device)\n",
        "            all_target_sequences = all_target_sequences.to(device)\n",
        "            all_sequence_lengths = all_sequence_lengths.to(device)\n",
        "            # Forward prop.\n",
        "            logits, alphas, sorted_target_sequences, sorted_decode_lengths, sorted_indices = model(images, target_sequences, sequence_lengths, 0)\n",
        "            # Since we decoded starting with <sos>, the targets are all words after <sos>, up to <eos>\n",
        "            sorted_target_sequences = sorted_target_sequences[:, 1:]\n",
        "            # Remove paddings\n",
        "            logits_copy = logits.clone()\n",
        "            logits = pack_padded_sequence(logits, sorted_decode_lengths).data\n",
        "            sorted_target_sequences = pack_padded_sequence(sorted_target_sequences, sorted_decode_lengths, batch_first=True).data\n",
        "            # Calculate loss\n",
        "            loss = criterion(logits, sorted_target_sequences)\n",
        "            # Add doubly stochastic attention regularization\n",
        "            loss += alpha_c * ((1. - alphas.sum(dim=1)) ** 2).mean()\n",
        "            # Track metrics\n",
        "            loss_tracker.update(loss.item(), sum(sorted_decode_lengths))\n",
        "            acc_tracker.update(accuracy(logits, sorted_target_sequences, 5), sum(sorted_decode_lengths))\n",
        "            # Update references\n",
        "            all_sorted_target_sequences = all_target_sequences[sorted_indices] # Because images were sorted in the decoder\n",
        "            for j in range(all_sorted_target_sequences.size(0)):\n",
        "                img_caps = all_sorted_target_sequences[j].t().tolist()\n",
        "                # Remove <sos> and <pad> tokens\n",
        "                img_caps = [*map(lambda c: [field.vocab.itos[w] for w in c\n",
        "                                            if w not in (field.vocab.stoi[field.init_token],\n",
        "                                                         field.vocab.stoi[field.pad_token])], img_caps)]\n",
        "                references.append(img_caps)\n",
        "            # Update hypotheses\n",
        "            _, preds = torch.max(logits_copy, dim=2)\n",
        "            preds, temp_preds = preds.t().tolist(), []\n",
        "            for j, p in enumerate(preds):\n",
        "                temp_preds.append([*map(lambda w: field.vocab.itos[w], preds[j][:sorted_decode_lengths[j]])]) # Remove padding\n",
        "            hypotheses.extend(temp_preds)\n",
        "            # Update progressbar description\n",
        "            pbar.set_description(f'Epoch: {epoch + 1:03d} - val_loss: {loss_tracker.avg:.3f} - val_acc: {acc_tracker.avg:.3f}%')\n",
        "        # Calculate BLEU-4 score\n",
        "        bleu4 = bleu_score(hypotheses, references, max_n=4, weights=[0.25, 0.25, 0.25, 0.25])\n",
        "    return loss_tracker.avg, acc_tracker.avg, bleu4"
      ],
      "execution_count": 0,
      "outputs": []
    },
    {
      "cell_type": "code",
      "metadata": {
        "id": "0N1p6-xkZX56",
        "colab_type": "code",
        "colab": {}
      },
      "source": [
        "def train(model, optimizer, criterion, train_loader, valid_loader, field, alpha_c, start_epoch, n_epochs, grad_clip, tf_ratio, device, model_name, last_improv):\n",
        "    history, best_bleu = {\n",
        "        'acc': [],\n",
        "        'loss': [],\n",
        "        'val_acc': [],\n",
        "        'val_loss': [],\n",
        "        'bleu4': []\n",
        "    }, 0.\n",
        "    for epoch in range(start_epoch, n_epochs):\n",
        "        # Stop training if no improvment since last 4 epochs\n",
        "        if last_improv == 4:\n",
        "            print('Training Finished - The model has stopped improving since last 4 epochs')\n",
        "            break\n",
        "        # Decay LR if no improvment\n",
        "        if last_improv > 0:\n",
        "            adjust_lr(optimizer, 0.8)\n",
        "        # Train step\n",
        "        loss, acc = train_step(model=model, optimizer=optimizer, criterion=criterion,\n",
        "                               loader=train_loader, epoch=epoch, grad_clip=grad_clip,\n",
        "                               alpha_c=alpha_c, tf_ratio=tf_ratio, device=device)\n",
        "        # Validation step\n",
        "        val_loss, val_acc, bleu4 = validate(model=model, criterion=criterion, loader=valid_loader,\n",
        "                                            field=field, epoch=epoch, alpha_c=alpha_c, device=device)\n",
        "        # Update history dict\n",
        "        history['acc'].append(acc)\n",
        "        history['loss'].append(loss)\n",
        "        history['val_acc'].append(val_acc)\n",
        "        history['val_loss'].append(val_loss)\n",
        "        history['bleu4'].append(bleu4)\n",
        "        # Print BLEU score\n",
        "        text = f'BLEU-4: {bleu4*100:.3f}%'\n",
        "        if best_bleu > bleu4:\n",
        "            last_improv += 1\n",
        "            text += f' - Last improvement since {last_improv} epoch(s)'\n",
        "        else:\n",
        "            best_bleu, last_improv = bleu4, 0\n",
        "        print(text)\n",
        "        # Save checkpoint\n",
        "        save_checkpoint(model=model, optimizer=optimizer, data_name=model_name, epoch=epoch, last_improv=last_improv, bleu4=bleu4, is_best=bleu4 >= best_bleu)\n",
        "    return history"
      ],
      "execution_count": 0,
      "outputs": []
    },
    {
      "cell_type": "markdown",
      "metadata": {
        "id": "nN_kRRgjZX6B",
        "colab_type": "text"
      },
      "source": [
        "## 5.2. Training models"
      ]
    },
    {
      "cell_type": "code",
      "metadata": {
        "id": "DQD6jkdfZX6G",
        "colab_type": "code",
        "colab": {}
      },
      "source": [
        "MODEL_NAME = 'Flickr_8k'\n",
        "ENCODER_HIDDEN_SIZE = 2048\n",
        "ATTENTION_SIZE = 512\n",
        "DECODER_HIDDEN_SIZE = 512\n",
        "EMBEDDING_SIZE = 300\n",
        "DROPOUT = 0."
      ],
      "execution_count": 0,
      "outputs": []
    },
    {
      "cell_type": "code",
      "metadata": {
        "id": "EzLwRaLMZX6L",
        "colab_type": "code",
        "colab": {}
      },
      "source": [
        "n_epochs = 10\n",
        "batch_size = 32\n",
        "lr = 3e-5\n",
        "grad_clip = 5.\n",
        "alpha_c = 1.\n",
        "tf_ratio = 0."
      ],
      "execution_count": 0,
      "outputs": []
    },
    {
      "cell_type": "code",
      "metadata": {
        "id": "tpI9IT-PZX6a",
        "colab_type": "code",
        "outputId": "c3ddeaa7-3250-43e9-b8d2-64b65a4e70c7",
        "colab": {
          "base_uri": "https://localhost:8080/",
          "height": 34
        }
      },
      "source": [
        "spacy_nlp = spacy.load('en_core_web_lg')\n",
        "embeddings = load_embeddings(nlp=spacy_nlp, field=EN)"
      ],
      "execution_count": 0,
      "outputs": [
        {
          "output_type": "stream",
          "text": [
            "100%|██████████| 2548/2548 [00:22<00:00, 114.39it/s]\n"
          ],
          "name": "stderr"
        }
      ]
    },
    {
      "cell_type": "code",
      "metadata": {
        "id": "WM1wCpP6ZX6i",
        "colab_type": "code",
        "outputId": "44943ebb-e57f-40d2-cf36-e20679545a32",
        "colab": {
          "base_uri": "https://localhost:8080/",
          "height": 34
        }
      },
      "source": [
        "encoder = ResNetEncoder()\n",
        "encoder.fine_tuning_resnet(fine_tune=True)\n",
        "decoder = DecoderWithBahdanauAttention(enc_hidden_size=ENCODER_HIDDEN_SIZE,\n",
        "                                       attn_hidden_size=ATTENTION_SIZE,\n",
        "                                       hidden_size=DECODER_HIDDEN_SIZE,\n",
        "                                       embedding_size=EMBEDDING_SIZE,\n",
        "                                       vocab_size=len(EN.vocab),\n",
        "                                       dropout=DROPOUT)\n",
        "decoder.load_pretrained_embeddings(embeddings)\n",
        "decoder.fine_tuning_embeddings(fine_tune=True)\n",
        "autoencoder = AutoEncoder(encoder=encoder, decoder=decoder, device=DEVICE).to(DEVICE)\n",
        "optimizer = optim.RMSprop(params=autoencoder.parameters(), lr=lr)\n",
        "criterion = nn.CrossEntropyLoss()\n",
        "print(f'Number of parameters of the model: {count_parameters(autoencoder):,}')"
      ],
      "execution_count": 0,
      "outputs": [
        {
          "output_type": "stream",
          "text": [
            "Number of parameters of the model: 136,587,749\n"
          ],
          "name": "stdout"
        }
      ]
    },
    {
      "cell_type": "code",
      "metadata": {
        "id": "QjnxhtJ2ZX6t",
        "colab_type": "code",
        "colab": {}
      },
      "source": [
        "# Define data loaders\n",
        "train_loader = torch.utils.data.DataLoader(train_dataset,\n",
        "                                           num_workers=N_WORKERS,\n",
        "                                           batch_size=batch_size,\n",
        "                                           shuffle=True,\n",
        "                                           pin_memory=True)\n",
        "valid_loader = torch.utils.data.DataLoader(valid_dataset,\n",
        "                                           num_workers=N_WORKERS,\n",
        "                                           batch_size=batch_size,\n",
        "                                           shuffle=True, \n",
        "                                           pin_memory=True)"
      ],
      "execution_count": 0,
      "outputs": []
    },
    {
      "cell_type": "code",
      "metadata": {
        "id": "IeYO4y0EZX65",
        "colab_type": "code",
        "outputId": "7eb11200-8d72-4b05-eaad-c97afa8e6a71",
        "colab": {
          "base_uri": "https://localhost:8080/",
          "height": 527
        }
      },
      "source": [
        "history = train(model=autoencoder,\n",
        "                optimizer=optimizer,\n",
        "                criterion=criterion,\n",
        "                train_loader=train_loader,\n",
        "                valid_loader=valid_loader,\n",
        "                field=EN,\n",
        "                alpha_c=alpha_c,\n",
        "                start_epoch=0,\n",
        "                n_epochs=n_epochs,\n",
        "                grad_clip=grad_clip,\n",
        "                tf_ratio=tf_ratio,\n",
        "                device=DEVICE,\n",
        "                model_name=MODEL_NAME,\n",
        "                last_improv=0)"
      ],
      "execution_count": 0,
      "outputs": [
        {
          "output_type": "stream",
          "text": [
            "Epoch: 001 - loss: 5.636 - acc: 6.325%: 100%|██████████| 188/188 [02:19<00:00,  1.35it/s]\n",
            "Epoch: 001 - val_loss: 5.280 - val_acc: 6.652%: 100%|██████████| 32/32 [00:13<00:00,  2.39it/s]\n"
          ],
          "name": "stderr"
        },
        {
          "output_type": "stream",
          "text": [
            "BLEU-4: 4.154%\n"
          ],
          "name": "stdout"
        },
        {
          "output_type": "stream",
          "text": [
            "Epoch: 002 - loss: 5.176 - acc: 6.982%: 100%|██████████| 188/188 [02:20<00:00,  1.34it/s]\n",
            "Epoch: 002 - val_loss: 5.095 - val_acc: 6.963%: 100%|██████████| 32/32 [00:11<00:00,  2.67it/s]\n"
          ],
          "name": "stderr"
        },
        {
          "output_type": "stream",
          "text": [
            "BLEU-4: 4.897%\n"
          ],
          "name": "stdout"
        },
        {
          "output_type": "stream",
          "text": [
            "Epoch: 003 - loss: 4.990 - acc: 7.407%: 100%|██████████| 188/188 [02:15<00:00,  1.39it/s]\n",
            "Epoch: 003 - val_loss: 4.934 - val_acc: 7.446%: 100%|██████████| 32/32 [00:12<00:00,  2.65it/s]\n"
          ],
          "name": "stderr"
        },
        {
          "output_type": "stream",
          "text": [
            "BLEU-4: 5.187%\n"
          ],
          "name": "stdout"
        },
        {
          "output_type": "stream",
          "text": [
            "Epoch: 004 - loss: 4.827 - acc: 7.708%: 100%|██████████| 188/188 [02:15<00:00,  1.39it/s]\n",
            "Epoch: 004 - val_loss: 4.785 - val_acc: 7.754%: 100%|██████████| 32/32 [00:11<00:00,  2.71it/s]\n"
          ],
          "name": "stderr"
        },
        {
          "output_type": "stream",
          "text": [
            "BLEU-4: 6.327%\n"
          ],
          "name": "stdout"
        },
        {
          "output_type": "stream",
          "text": [
            "Epoch: 005 - loss: 4.679 - acc: 8.040%: 100%|██████████| 188/188 [02:15<00:00,  1.39it/s]\n",
            "Epoch: 005 - val_loss: 4.696 - val_acc: 8.009%: 100%|██████████| 32/32 [00:11<00:00,  2.68it/s]\n"
          ],
          "name": "stderr"
        },
        {
          "output_type": "stream",
          "text": [
            "BLEU-4: 6.955%\n"
          ],
          "name": "stdout"
        },
        {
          "output_type": "stream",
          "text": [
            "Epoch: 006 - loss: 4.541 - acc: 8.394%: 100%|██████████| 188/188 [02:15<00:00,  1.39it/s]\n",
            "Epoch: 006 - val_loss: 4.614 - val_acc: 8.251%: 100%|██████████| 32/32 [00:11<00:00,  2.67it/s]\n"
          ],
          "name": "stderr"
        },
        {
          "output_type": "stream",
          "text": [
            "BLEU-4: 7.721%\n"
          ],
          "name": "stdout"
        },
        {
          "output_type": "stream",
          "text": [
            "Epoch: 007 - loss: 4.417 - acc: 8.706%: 100%|██████████| 188/188 [02:15<00:00,  1.38it/s]\n",
            "Epoch: 007 - val_loss: 4.543 - val_acc: 8.473%: 100%|██████████| 32/32 [00:11<00:00,  2.73it/s]\n"
          ],
          "name": "stderr"
        },
        {
          "output_type": "stream",
          "text": [
            "BLEU-4: 8.431%\n"
          ],
          "name": "stdout"
        },
        {
          "output_type": "stream",
          "text": [
            "Epoch: 008 - loss: 4.306 - acc: 8.979%: 100%|██████████| 188/188 [02:16<00:00,  1.38it/s]\n",
            "Epoch: 008 - val_loss: 4.474 - val_acc: 8.700%: 100%|██████████| 32/32 [00:12<00:00,  2.63it/s]\n"
          ],
          "name": "stderr"
        },
        {
          "output_type": "stream",
          "text": [
            "BLEU-4: 8.498%\n"
          ],
          "name": "stdout"
        },
        {
          "output_type": "stream",
          "text": [
            "Epoch: 009 - loss: 4.201 - acc: 9.190%: 100%|██████████| 188/188 [02:16<00:00,  1.38it/s]\n",
            "Epoch: 009 - val_loss: 4.415 - val_acc: 8.689%: 100%|██████████| 32/32 [00:12<00:00,  2.64it/s]\n"
          ],
          "name": "stderr"
        },
        {
          "output_type": "stream",
          "text": [
            "BLEU-4: 10.503%\n"
          ],
          "name": "stdout"
        },
        {
          "output_type": "stream",
          "text": [
            "Epoch: 010 - loss: 4.118 - acc: 9.463%: 100%|██████████| 188/188 [02:16<00:00,  1.37it/s]\n",
            "Epoch: 010 - val_loss: 4.392 - val_acc: 8.940%: 100%|██████████| 32/32 [00:11<00:00,  2.67it/s]\n"
          ],
          "name": "stderr"
        },
        {
          "output_type": "stream",
          "text": [
            "BLEU-4: 10.417% - Last improvement since 1 epoch(s)\n"
          ],
          "name": "stdout"
        }
      ]
    },
    {
      "cell_type": "code",
      "metadata": {
        "id": "3bebBmWmZX7A",
        "colab_type": "code",
        "outputId": "9bcf2d8b-1f0d-41b7-fd81-d289562473a2",
        "colab": {
          "base_uri": "https://localhost:8080/",
          "height": 350
        }
      },
      "source": [
        "_, axes = plt.subplots(1, 2, figsize=(12, 5))\n",
        "axes[0].plot(history['loss'], label='train')\n",
        "axes[0].plot(history['val_loss'], label='valid')\n",
        "axes[0].set_title('Loss history')\n",
        "axes[0].set_xlabel('Epoch')\n",
        "axes[0].set_ylabel('Loss')\n",
        "axes[0].grid(True)\n",
        "axes[1].plot(history['acc'], label='train')\n",
        "axes[1].plot(history['val_acc'], label='valid')\n",
        "axes[1].plot(np.array(history['bleu4']) * 100., label='BLEU-4')\n",
        "axes[1].set_title('Accuracy history')\n",
        "axes[1].set_xlabel('Epoch')\n",
        "axes[1].set_ylabel('Accuracy (%)')\n",
        "axes[1].grid(True)\n",
        "plt.legend()\n",
        "plt.show()"
      ],
      "execution_count": 0,
      "outputs": [
        {
          "output_type": "display_data",
          "data": {
            "image/png": "[encoded data removed]",
            "text/plain": [
              "<Figure size 864x360 with 2 Axes>"
            ]
          },
          "metadata": {
            "tags": [],
            "needs_background": "light"
          }
        }
      ]
    },
    {
      "cell_type": "markdown",
      "metadata": {
        "id": "8s2Dp7RPZX7i",
        "colab_type": "text"
      },
      "source": [
        "# 6. Evaluation - BLEU Score"
      ]
    },
    {
      "cell_type": "code",
      "metadata": {
        "id": "wC3H7uoPZX8J",
        "colab_type": "code",
        "outputId": "a614a5c7-08f6-41de-a658-6bd7a0a53f84",
        "colab": {
          "base_uri": "https://localhost:8080/",
          "height": 34
        }
      },
      "source": [
        "autoencoder.load_state_dict(torch.load('./checkpoint/BEST_Flickr_8k.pt').get('model'))"
      ],
      "execution_count": 0,
      "outputs": [
        {
          "output_type": "execute_result",
          "data": {
            "text/plain": [
              "<All keys matched successfully>"
            ]
          },
          "metadata": {
            "tags": []
          },
          "execution_count": 34
        }
      ]
    },
    {
      "cell_type": "code",
      "metadata": {
        "id": "ULooViEOZX8e",
        "colab_type": "code",
        "colab": {}
      },
      "source": [
        "test_dataset = ImageCaptionDataset(data_path='./data/Flicker8k_Dataset/',\n",
        "                                   img_captions=test_img_captions,\n",
        "                                   split_set='TEST',\n",
        "                                   img_transform=img_transform,\n",
        "                                   caption_transform=caption_transform)\n",
        "\n",
        "test_loader = torch.utils.data.DataLoader(test_dataset,\n",
        "                                          num_workers=N_WORKERS,\n",
        "                                          batch_size=1,\n",
        "                                          shuffle=True, \n",
        "                                          pin_memory=True)"
      ],
      "execution_count": 0,
      "outputs": []
    },
    {
      "cell_type": "code",
      "metadata": {
        "id": "L2DZ6d03twtu",
        "colab_type": "code",
        "colab": {}
      },
      "source": [
        "class BeamNode:\n",
        "    __index = 0\n",
        "\n",
        "    def __init__(self, ):"
      ],
      "execution_count": 0,
      "outputs": []
    },
    {
      "cell_type": "code",
      "metadata": {
        "id": "_kXqLgQHZX8j",
        "colab_type": "code",
        "colab": {}
      },
      "source": [
        "def evaluate(model, loader, beam_size, field, max_len, device):\n",
        "    references, hypotheses = [], []\n",
        "    model.eval()\n",
        "    with torch.no_grad():\n",
        "        pbar = tqdm.tqdm(enumerate(loader), total=len(loader))\n",
        "        for i, (images, (target_sequences, sequence_lengths), (all_target_sequences, all_sequence_lengths)) in pbar:\n",
        "            images = images.to(device)\n",
        "            target_sequences = target_sequences.to(device)\n",
        "            sequence_lengths = sequence_lengths.to(device)\n",
        "            all_target_sequences = all_target_sequences.to(device)\n",
        "            all_sequence_lengths = all_sequence_lengths.to(device)\n",
        "            \n",
        "            k = beam_size\n",
        "            \n",
        "            # Encoding\n",
        "            image_features = model.encoder(images) # [1, 14, 14, hidden_size]\n",
        "            image_features = image_features.view(1, -1, model.encoder.hidden_size) # [1, num_pixels, enc_hidden_size]\n",
        "            \n",
        "            # Init hidden and memory states\n",
        "            mean_image_features = image_features.mean(dim=1) # [1, enc_hidden_size]\n",
        "            h_state, c_state = model.init_h0(mean_image_features), model.init_c0(mean_image_features) # [1, dec_hidden_size]\n",
        "\n",
        "            # Decoding\n",
        "            step = 1\n",
        "            while True:\n",
        "                embedded = model.decoder.embedding(topk_prev_tokens.squeeze(1))  # [k, embedding_size]\n",
        "                context_vector, _ = model.decoder.attention(image_features, h_state)\n",
        "                # context_vector: Tensor[k, enc_hidden_size]\n",
        "                # _: Tensor[k, num_pixels]\n",
        "                gate = torch.sigmoid(model.decoder.f_beta(h_state))  # [k, enc_hidden_size], Gating scalar\n",
        "                context_vector = gate * context_vector # [k, enc_hidden_size]\n",
        "                x = torch.cat((embedded, context_vector), dim=1) # [k, embedding_size + enc_hidden_size]\n",
        "                h_state, c_state = h_state.unsqueeze(0).contiguous(), c_state.unsqueeze(0).contiguous()\n",
        "                output, (h_state, c_state) = model.decoder.lstm(x.unsqueeze(0), (h_state, c_state))\n",
        "                # output: [1, k, hidden_size]\n",
        "                # h_state: [1, k, hidden_size]\n",
        "                # c_state: [1, k, hidden_size]\n",
        "                logit = model.decoder.fc(output) # [1, k, vocab_size]\n",
        "                logp = F.log_softmax(logit.squeeze(0), dim=1) # [k, vocab_size]\n",
        "\n",
        "                topk_logp = torch.topk(logp, k, dim=1) # [k, k]"
      ],
      "execution_count": 0,
      "outputs": []
    },
    {
      "cell_type": "markdown",
      "metadata": {
        "id": "sZMIDy2mZX81",
        "colab_type": "text"
      },
      "source": [
        "# 7. Inference - Beam Search"
      ]
    },
    {
      "cell_type": "code",
      "metadata": {
        "id": "gzgW20ekZX81",
        "colab_type": "code",
        "colab": {}
      },
      "source": [
        ""
      ],
      "execution_count": 0,
      "outputs": []
    },
    {
      "cell_type": "code",
      "metadata": {
        "id": "D55g1AHNZX8_",
        "colab_type": "code",
        "colab": {}
      },
      "source": [
        ""
      ],
      "execution_count": 0,
      "outputs": []
    }
  ]
}